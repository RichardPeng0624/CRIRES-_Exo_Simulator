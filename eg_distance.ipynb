{
 "cells": [
  {
   "cell_type": "code",
   "execution_count": 1,
   "id": "d3533f78",
   "metadata": {},
   "outputs": [],
   "source": [
    "#import the libraries \n",
    "\n",
    "import glob\n",
    "import numpy as np\n",
    "import matplotlib.pyplot as plt\n",
    "import pandas as pd\n",
    "from scipy import fftpack,signal\n",
    "import matplotlib\n",
    "from matplotlib.ticker import ScalarFormatter\n",
    "from astropy.visualization import (MinMaxInterval, SqrtStretch, ImageNormalize, ZScaleInterval)\n",
    "import scipy\n",
    "import json\n",
    "import subprocess\n",
    "import os\n",
    "\n",
    "from exocrires import spectra_2d\n",
    "from exocrires import analysis"
   ]
  },
  {
   "cell_type": "markdown",
   "id": "b34f1482",
   "metadata": {},
   "source": [
    "# Calculate Apparent Magnitude of the Planet"
   ]
  },
  {
   "cell_type": "code",
   "execution_count": null,
   "id": "4ebad238",
   "metadata": {},
   "outputs": [],
   "source": [
    "#merge this function into analysis module later\n",
    "#in cgs unit\n",
    "def direct_mag(radius, distance, zero_point_flux, lambda_range=[], spec_path=''):\n",
    "    \n",
    "    '''\n",
    "    --Convert the input paramters into CGS unit--\n",
    "    \n",
    "    # radius, distance: parameters of the planet\n",
    "    \n",
    "    # zero_point_flux: depending on the band and the photometric system, the suggestion is MKO potometric system.\n",
    "    \n",
    "    # lambda_range: the band for computation of magnitude. Simutaneous computation for multiple band is supported, but should follow the format as:\n",
    "    \n",
    "    [band_1_min, band_1_max, band_2_min, band_2_max, band_3_min, band_3_max ...]\n",
    "    \n",
    "    # spec_path: the path of input (theoretical) spectrum of the planet\n",
    "    \n",
    "    '''\n",
    "    spec=pd.read_table(spec_path)\n",
    "    \n",
    "    for i in lambda_range:\n",
    "        \n",
    "        lam_min=lambda_range[i]\n",
    "        lam_max=lambda_range[i+1]\n",
    "        \n",
    "        \n",
    "        F=np.trapz(spec[lam_min:lam_max], )\n",
    "        \n",
    "        \n",
    "        i+=2\n",
    "         \n",
    "        scipy.con    \n"
   ]
  }
 ],
 "metadata": {
  "kernelspec": {
   "display_name": "Python 3 (ipykernel)",
   "language": "python",
   "name": "python3"
  },
  "language_info": {
   "codemirror_mode": {
    "name": "ipython",
    "version": 3
   },
   "file_extension": ".py",
   "mimetype": "text/x-python",
   "name": "python",
   "nbconvert_exporter": "python",
   "pygments_lexer": "ipython3",
   "version": "3.9.13"
  }
 },
 "nbformat": 4,
 "nbformat_minor": 5
}
