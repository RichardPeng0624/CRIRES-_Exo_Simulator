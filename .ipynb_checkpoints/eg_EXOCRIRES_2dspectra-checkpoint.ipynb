{
 "cells": [
  {
   "cell_type": "markdown",
   "id": "25217513",
   "metadata": {},
   "source": [
    "# Process the Spectrum of the Host Star"
   ]
  },
  {
   "cell_type": "code",
   "execution_count": 2,
   "id": "d0eafb02",
   "metadata": {},
   "outputs": [],
   "source": [
    "#import the libraries \n",
    "\n",
    "import glob\n",
    "import numpy as np\n",
    "import matplotlib.pyplot as plt\n",
    "import pandas as pd\n",
    "from scipy import fftpack,signal\n",
    "import matplotlib\n",
    "from matplotlib.ticker import ScalarFormatter\n",
    "from astropy.visualization import (MinMaxInterval, SqrtStretch, ImageNormalize, ZScaleInterval)\n",
    "import scipy\n",
    "import json\n",
    "import subprocess\n",
    "import os\n",
    "\n",
    "from exocrires import spectra_2d\n",
    "from exocrires import analysis"
   ]
  },
  {
   "cell_type": "code",
   "execution_count": null,
   "id": "27454124",
   "metadata": {},
   "outputs": [],
   "source": [
    "data=spectra_2d.load_json('/Volumes/JCP_work/thesis_ms/input_1709_AO.json','r')\n",
    "\n",
    "print(data['target']['brightness']['params']['mag'])\n"
   ]
  },
  {
   "cell_type": "code",
   "execution_count": null,
   "id": "eea3c5cc",
   "metadata": {},
   "outputs": [],
   "source": [
    "out_put=[]\n",
    "for i in data['output']:\n",
    "    if i == 'psf':\n",
    "        out_put.append('%s'%i)\n",
    "    else:   \n",
    "        for j in data['output'][i]:\n",
    "            out_put.append('%s_%s'%(i,j))\n",
    "out_put=[string.lower() for string in out_put] "
   ]
  },
  {
   "cell_type": "code",
   "execution_count": null,
   "id": "3f96aa5e",
   "metadata": {
    "scrolled": true
   },
   "outputs": [],
   "source": [
    "simu_star=spectra_2d.spectra_2d(path_etc_local='/Volumes/JCP_work/thesis_ms/etc_cli.py', path_etc_input='/Volumes/JCP_work/thesis_ms/input_1709_AO.json', path_input_modi='/Volumes/JCP_work/thesis_ms/modi_input_1709_AO.json',\\\n",
    "             path_etc_output='/Volumes/JCP_work/thesis_ms/2411/star/', target='star', aperture_size=35, date='2411',\\\n",
    "        order_window=[[1921.318, 1961.128],[1989.978, 2031.165],[2063.711, 2106.392],[2143.087, 2187.386], [2228.786, 2274.835],\\\n",
    "        [2321.596, 2369.534], [2422.415, 2472.388]],\\\n",
    "        order_number=[29, 28, 27, 26, 25, 24, 23])\n",
    "\n",
    "simu_star.output_json()\n",
    "\n",
    "simu_star.json2ascii(path_json2ascii='/Volumes/JCP_work/thesis_ms/etc_json2ascii.py')\n",
    "\n",
    "simu_star.ascii2txt(output=out_put)\n",
    "\n",
    "data_log=simu_star.signal(detectors=3, contribution='target', focal_plane=(2048, 2048*3))\n",
    "\n",
    "data_log.to_csv(simu_star.path_output+'stellar_simu.csv')"
   ]
  },
  {
   "cell_type": "code",
   "execution_count": null,
   "id": "38c3c0b7",
   "metadata": {},
   "outputs": [],
   "source": [
    "simu_star.plot_signal(wave_count_sort=data_log, max_percentile=99,\\\n",
    "                      save_path=simu_star.path_output+'star_simu.png', interv=ZScaleInterval())"
   ]
  },
  {
   "cell_type": "markdown",
   "id": "b0accf23",
   "metadata": {},
   "source": [
    "# Process the Sky Background"
   ]
  },
  {
   "cell_type": "code",
   "execution_count": null,
   "id": "cbf4269b",
   "metadata": {},
   "outputs": [],
   "source": [
    "# The sky background distribution should be the same for each run of output data. Therefore we only need to run it once with any input specgtrum of the planet\n",
    "\n",
    "path='/Volumes/JCP_work/thesis_ms'\n",
    "\n",
    "data_log_k=simu_star.signal(detectors=3, focal_plane=(2048, 2048*3), contribution='sky')\n",
    "data_log_k.to_csv(path+'/2411/sky_noi/sky_simu.csv')\n",
    "simu_star.plot_signal(data_log_k, max_percentile=99.99, save_path=path+'/2411/sky_noi/sky_simu.png', interv=ZScaleInterval(), Nor=None)"
   ]
  },
  {
   "cell_type": "markdown",
   "id": "ee15b2e2",
   "metadata": {},
   "source": [
    "# Process the Spectrum of the Planet and Make Combination"
   ]
  },
  {
   "cell_type": "code",
   "execution_count": 7,
   "id": "1d2d88dc",
   "metadata": {},
   "outputs": [],
   "source": [
    "#set up the array for contrast data\n",
    "cont=np.zeros((55, 2, 2046*3))\n",
    "\n",
    "#set up noise parameters\n",
    "read=6 #e-/pix\n",
    "dark=0.003 #e-/pix/s\n",
    "dit=120\n",
    "ndit=18\n",
    "nspec=1\n",
    "nspat=119\n",
    "\n",
    "npix=nspec*nspat\n",
    "ndark=dit*dark #e-/pix/exposure\n",
    "\n",
    "#set up the angular separation (pix)\n",
    "po=int(np.ceil(0.319/0.059))"
   ]
  },
  {
   "cell_type": "code",
   "execution_count": null,
   "id": "186fa720",
   "metadata": {},
   "outputs": [],
   "source": [
    "data_pp=spectra_2d.load_json('/Volumes/JCP_work/thesis_ms/input_1709_p_AO.json', 'r')\n",
    "\n",
    "print(data_pp['target']['brightness']['params']['mag'])"
   ]
  },
  {
   "cell_type": "code",
   "execution_count": null,
   "id": "16cbe110",
   "metadata": {},
   "outputs": [],
   "source": [
    "out_put=[]\n",
    "for i in data_pp['output']:\n",
    "    if i == 'psf':\n",
    "        out_put.append('%s'%i)\n",
    "    else:   \n",
    "        for j in data_pp['output'][i]:\n",
    "            out_put.append('%s_%s'%(i,j))\n",
    "out_put=[string.lower() for string in out_put] "
   ]
  },
  {
   "cell_type": "code",
   "execution_count": null,
   "id": "08f5152b",
   "metadata": {},
   "outputs": [],
   "source": [
    "path='/Volumes/JCP_work/thesis_ms'\n",
    "\n",
    "filenames=glob.glob(path+'/models_1683734698/bt-settl_m/lte*.dat') #use dat\n",
    "filenames=sorted(filenames)\n",
    "\n",
    "for filename in filenames[0:2]:\n",
    "    \n",
    "    #if os.path.exists(path+'/2411/planet/%s'%filename[-34:-23]) == True:\n",
    "    #continue\n",
    "    \n",
    "    simu_planet=spectra_2d.spectra_2d(path_etc_local=path+'/etc_cli.py', path_etc_input=path+'/input_1709_p_AO.json', path_input_modi=path+'/modi_input_1709_p_AO.json',\\\n",
    "                 path_etc_output=path+'/2411/planet/%s/'%filename[-34:-23], target='planet', aperture_size=35, date='2411',\\\n",
    "            order_window=[[1921.318, 1961.128],[1989.978, 2031.165],[2063.711, 2106.392],[2143.087, 2187.386], [2228.786, 2274.835],\\\n",
    "            [2321.596, 2369.534], [2422.415, 2472.388]],\\\n",
    "            order_number=[29, 28, 27, 26, 25, 24, 23],\\\n",
    "            model_name=filename)\n",
    "\n",
    "    simu_planet.output_json()\n",
    "\n",
    "    simu_planet.json2ascii(path_json2ascii=path+'/etc_json2ascii.py')\n",
    "\n",
    "    simu_planet.ascii2txt(output=out_put)\n",
    "\n",
    "    data_log_p=simu_planet.signal(detectors=3, focal_plane=(2048, 2048*3), contribution='target')\n",
    "\n",
    "    data_log_p.to_csv(simu_planet.path_output+'planet_simu.csv')\n",
    "    \n",
    "    print ('Planet-only 2d spectrum done:%s'%simu_planet.path_output)\n",
    "    \n",
    "    simu_planet.plot_signal(data_log_p, max_percentile=99,\\\n",
    "                            save_path=simu_planet.path_output+'planet_simu.png', interv=ZScaleInterval())\n",
    "    \n",
    "    ##-----Combine with the sky background, the stellar light and the noise terms-----##\n",
    "    \n",
    "    tot_data_com, fig=simu_planet.combine(data_star=data_log, data_sky=data_log_k, data_p=data_log_p, ron=read, dark=ndark, d=po, \\\n",
    "                                focal_plane=(2048,2048*3), plot_combination=True)\n",
    "    fig.savefig(path+'/2411/planet/%s/combine.png'%filename[-34:-23])\n",
    "\n",
    "    np.save(path+'/2411/planet/%s/combine_focal_plane.npy'%filename[-34:-23], tot_data_com)"
   ]
  },
  {
   "cell_type": "code",
   "execution_count": 9,
   "id": "901524bd",
   "metadata": {},
   "outputs": [
    {
     "name": "stderr",
     "output_type": "stream",
     "text": [
      "/Users/richard/opt/anaconda3/lib/python3.9/site-packages/pandas/core/arraylike.py:397: RuntimeWarning: divide by zero encountered in log10\n",
      "  result = getattr(ufunc, method)(*inputs, **kwargs)\n"
     ]
    },
    {
     "name": "stdout",
     "output_type": "stream",
     "text": [
      "Combination done;010-4.0-0.0\n"
     ]
    },
    {
     "name": "stderr",
     "output_type": "stream",
     "text": [
      "/Users/richard/opt/anaconda3/lib/python3.9/site-packages/pandas/core/arraylike.py:397: RuntimeWarning: divide by zero encountered in log10\n",
      "  result = getattr(ufunc, method)(*inputs, **kwargs)\n"
     ]
    },
    {
     "name": "stdout",
     "output_type": "stream",
     "text": [
      "Combination done;010-4.5-0.0\n"
     ]
    }
   ],
   "source": [
    "#plot the contrast and save the average value\n",
    "path='/Volumes/JCP_work/thesis_ms'\n",
    "\n",
    "filenames=glob.glob(path+'/models_1683734698/bt-settl_m/lte*.dat') #use dat\n",
    "filenames=sorted(filenames)\n",
    "\n",
    "data_log=pd.read_csv(path+'/2411/star/stellar_simu.csv')\n",
    "\n",
    "i=0\n",
    "\n",
    "for filename in filenames[0:2]:\n",
    "    \n",
    "    data_log_p=pd.read_csv(path+'/2411/planet/%s/planet_simu.csv'%filename[-34:-23])\n",
    "    \n",
    "    p=analysis.planet_para(disper_planet=data_log_p, disper_star=data_log)\n",
    "    p2s_in, p2s_pl, plot_in, plot_pl=p.p_2_s(order_num=[29, 28, 27, 26, 25, 24, 23], planet_posi=po)\n",
    "    \n",
    "    plot_in.savefig(path+'/2411/planet/%s/contrast_intrinsic.png'%filename[-34:-23], dpi=200)\n",
    "    plot_pl.savefig(path+'/2411/planet/%s/contrast_planet_posi.png'%filename[-34:-23], dpi=200)\n",
    "    np.save(path+'/2411/planet/%s/contrast.npy'%filename[-34:-23], np.array((p2s_in, p2s_pl)))\n",
    "    \n",
    "    a=p2s_in[2046*12:2046*15]\n",
    "    b=p2s_pl[2046*12:2046*15]\n",
    "    cont[i]=np.array((a,b))\n",
    "    i+=1\n",
    "    \n",
    "    print ('Combination done;%s'%filename[-34:-23])"
   ]
  },
  {
   "cell_type": "code",
   "execution_count": null,
   "id": "27f08332",
   "metadata": {},
   "outputs": [],
   "source": []
  }
 ],
 "metadata": {
  "kernelspec": {
   "display_name": "Python 3 (ipykernel)",
   "language": "python",
   "name": "python3"
  },
  "language_info": {
   "codemirror_mode": {
    "name": "ipython",
    "version": 3
   },
   "file_extension": ".py",
   "mimetype": "text/x-python",
   "name": "python",
   "nbconvert_exporter": "python",
   "pygments_lexer": "ipython3",
   "version": "3.9.13"
  }
 },
 "nbformat": 4,
 "nbformat_minor": 5
}
